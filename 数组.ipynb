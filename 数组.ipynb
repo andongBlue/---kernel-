{
 "cells": [
  {
   "cell_type": "markdown",
   "metadata": {},
   "source": [
    "### 利用动态数组解决数据存放问题。"
   ]
  },
  {
   "cell_type": "markdown",
   "metadata": {},
   "source": [
    "**要求输入一个整数N,用动态数组A来存放2-N之间所有5或7的倍数，输出该数组**"
   ]
  },
  {
   "cell_type": "code",
   "execution_count": 14,
   "metadata": {},
   "outputs": [],
   "source": [
    "def dynarry (N):\n",
    "    A = []\n",
    "    for i in range(1,N):\n",
    "        if i%5==0 or i%7==0:\n",
    "            A.append(i)\n",
    "    return A        "
   ]
  },
  {
   "cell_type": "code",
   "execution_count": 15,
   "metadata": {},
   "outputs": [
    {
     "name": "stdout",
     "output_type": "stream",
     "text": [
      "[5, 7, 10, 14, 15]\n"
     ]
    }
   ],
   "source": [
    "a = dynarry(16)\n",
    "print(a)"
   ]
  },
  {
   "cell_type": "markdown",
   "metadata": {},
   "source": [
    "### 托普利茨矩阵问题"
   ]
  },
  {
   "cell_type": "markdown",
   "metadata": {},
   "source": [
    "**给定一个M*N的矩阵，当且仅当它是托普利茨矩阵时返回True**"
   ]
  },
  {
   "cell_type": "code",
   "execution_count": 28,
   "metadata": {},
   "outputs": [],
   "source": [
    "def isTope(matrix):\n",
    "    gourp = {}\n",
    "    for r,row in enumerate(matrix):\n",
    "        for c , val in enumerate(row):\n",
    "            if r-c not in gourp:\n",
    "                gourp[r-c] = val\n",
    "            elif val != gourp[r-c]:\n",
    "                return False\n",
    "    return True\n",
    "    "
   ]
  },
  {
   "cell_type": "code",
   "execution_count": 31,
   "metadata": {},
   "outputs": [
    {
     "name": "stdout",
     "output_type": "stream",
     "text": [
      "True\n"
     ]
    }
   ],
   "source": [
    "print(isTope([[3,2,5],[2,3,2],[1,2,3]]))"
   ]
  },
  {
   "cell_type": "markdown",
   "metadata": {},
   "source": []
  },
  {
   "cell_type": "markdown",
   "metadata": {},
   "source": [
    "### 三数之和"
   ]
  },
  {
   "cell_type": "markdown",
   "metadata": {},
   "source": [
    "**给定一个包含n个整数的数组nums，判定nums中是否存在三个元素a,b,c，使得a+b+c=0?找出所有满足条件且不重复的三元数组。**"
   ]
  },
  {
   "cell_type": "code",
   "execution_count": 32,
   "metadata": {},
   "outputs": [],
   "source": [
    "def threesun(nums):\n",
    "        n=len(nums)\n",
    "        res=[]\n",
    "        if(not nums or n<3):\n",
    "            return []\n",
    "        nums.sort()\n",
    "        res=[]\n",
    "        for i in range(n):\n",
    "            if(nums[i]>0):\n",
    "                return res\n",
    "            if(i>0 and nums[i]==nums[i-1]):\n",
    "                continue\n",
    "            L=i+1\n",
    "            R=n-1\n",
    "            while(L<R):\n",
    "                if(nums[i]+nums[L]+nums[R]==0):\n",
    "                    res.append([nums[i],nums[L],nums[R]])\n",
    "                    while(L<R and nums[L]==nums[L+1]):\n",
    "                        L=L+1\n",
    "                    while(L<R and nums[R]==nums[R-1]):\n",
    "                        R=R-1\n",
    "                    L=L+1\n",
    "                    R=R-1\n",
    "                elif(nums[i]+nums[L]+nums[R]>0):\n",
    "                    R=R-1\n",
    "                else:\n",
    "                    L=L+1\n",
    "        return res"
   ]
  },
  {
   "cell_type": "code",
   "execution_count": 33,
   "metadata": {},
   "outputs": [
    {
     "name": "stdout",
     "output_type": "stream",
     "text": [
      "[[-1, 0, 1]]\n"
     ]
    }
   ],
   "source": [
    "print(threesun([1,-1,-1,0]))"
   ]
  }
 ],
 "metadata": {
  "kernelspec": {
   "display_name": "Python 3",
   "language": "python",
   "name": "python3"
  },
  "language_info": {
   "codemirror_mode": {
    "name": "ipython",
    "version": 3
   },
   "file_extension": ".py",
   "mimetype": "text/x-python",
   "name": "python",
   "nbconvert_exporter": "python",
   "pygments_lexer": "ipython3",
   "version": "3.7.4"
  }
 },
 "nbformat": 4,
 "nbformat_minor": 2
}
