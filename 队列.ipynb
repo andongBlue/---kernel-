{
 "cells": [
  {
   "cell_type": "code",
   "execution_count": 1,
   "metadata": {},
   "outputs": [],
   "source": [
    "import time, threading"
   ]
  },
  {
   "cell_type": "code",
   "execution_count": 2,
   "metadata": {},
   "outputs": [],
   "source": [
    "class Queue:\n",
    "    def __init__(self):\n",
    "        self.items = []\n",
    "\n",
    "    def isEmpty(self):\n",
    "        return self.items == []\n",
    "\n",
    "    def enqueue(self, item):\n",
    "        self.items.insert(0,item)\n",
    "\n",
    "    def dequeue(self):\n",
    "        if self.items != []:\n",
    "            return self.items.pop()\n",
    "        else:\n",
    "            return False\n",
    "\n",
    "    def size(self):\n",
    "        return len(self.items)\n",
    "\n",
    "    def top(self):\n",
    "        if self.items != []:\n",
    "            return self.items[len(self.items)-1]\n",
    "        else:\n",
    "            return False"
   ]
  },
  {
   "cell_type": "code",
   "execution_count": 3,
   "metadata": {},
   "outputs": [],
   "source": [
    "class Counter(threading.Thread):\n",
    "    def __init__(self):\n",
    "        threading.Thread.__init__(self)\n",
    "        self.waitQueue = Queue() ## 初始化等待的队伍\n",
    "        self.lock = threading.Lock()\n",
    "\n",
    "    def callIng(self):\n",
    "        while True:\n",
    "            ### 柜台一直叫号，要一直循环\n",
    "            time.sleep(5)\n",
    "            if not self.waitQueue.isEmpty():\n",
    "                self.lock.acquire()\n",
    "                print(\"请客户{},到{}窗口办理业务\".format(self.waitQueue.top(), threading.current_thread().name))\n",
    "                self.waitQueue.dequeue()\n",
    "                self.lock.release()"
   ]
  },
  {
   "cell_type": "code",
   "execution_count": 4,
   "metadata": {},
   "outputs": [],
   "source": [
    "\n",
    "class bankSystem:\n",
    "    def __init__(self):\n",
    "        self.serviceQueue = Queue()\n",
    "        self.nowNum = 0\n",
    "        # self.windows = k  # 银行柜台数目\n",
    "        self.maxSize = 100\n",
    "\n",
    "    def getNumber(self):\n",
    "        if self.nowNum < self.maxSize:\n",
    "            self.nowNum += 1\n",
    "            return self.nowNum\n",
    "        else:\n",
    "            print(\"现在业务繁忙，请稍后再来\")"
   ]
  },
  {
   "cell_type": "code",
   "execution_count": null,
   "metadata": {},
   "outputs": [
    {
     "name": "stdout",
     "output_type": "stream",
     "text": [
      "请点击触摸屏获取号码：123\n",
      "当前您的的号码为1，您前面还有0个人\n",
      "请客户1,到2窗口办理业务请客户1,到1窗口办理业务\n",
      "\n"
     ]
    }
   ],
   "source": [
    "if __name__ == \"__main__\":\n",
    "    res = bankSystem()\n",
    "    windowcount = 3\n",
    "    serviceWindow = [None] * windowcount\n",
    "    threadList = [None] * windowcount\n",
    "\n",
    "    for i in range(windowcount):\n",
    "        serviceWindow[i] = Counter()\n",
    "        serviceWindow[i].waitQueue = res.serviceQueue\n",
    "        threadList[i] = threading.Thread(name=(i + 1), target=serviceWindow[i].callIng, args=())\n",
    "        threadList[i].start()\n",
    "        # threadList[i].join()\n",
    "\n",
    "    while True:\n",
    "        input(\"请点击触摸屏获取号码：\")\n",
    "        # print()\n",
    "        callNumber = res.getNumber()\n",
    "        if res.serviceQueue != None:\n",
    "            print(\"当前您的的号码为\" + str(callNumber) + \"，您前面还有\" + str(res.serviceQueue.size()) + \"个人\")\n",
    "            res.serviceQueue.enqueue(res.nowNum)\n",
    "        else:\n",
    "            print('您的号码是：%d，您前面有 0 位' % (callNumber))"
   ]
  },
  {
   "cell_type": "code",
   "execution_count": null,
   "metadata": {},
   "outputs": [],
   "source": []
  }
 ],
 "metadata": {
  "kernelspec": {
   "display_name": "Python 3",
   "language": "python",
   "name": "python3"
  },
  "language_info": {
   "codemirror_mode": {
    "name": "ipython",
    "version": 3
   },
   "file_extension": ".py",
   "mimetype": "text/x-python",
   "name": "python",
   "nbconvert_exporter": "python",
   "pygments_lexer": "ipython3",
   "version": "3.7.4"
  }
 },
 "nbformat": 4,
 "nbformat_minor": 2
}
