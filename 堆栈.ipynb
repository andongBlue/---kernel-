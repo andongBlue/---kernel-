{
 "cells": [
  {
   "cell_type": "markdown",
   "metadata": {},
   "source": [
    "堆栈的实践方法是一个有两个方案，一个是用数据实现的顺序式，另一个是用链表来实现的链表式"
   ]
  },
  {
   "cell_type": "markdown",
   "metadata": {},
   "source": [
    "#### 顺序式的python实现"
   ]
  },
  {
   "cell_type": "code",
   "execution_count": 31,
   "metadata": {},
   "outputs": [],
   "source": [
    "'''\n",
    "顺序式结构\n",
    "'''\n",
    "class SqStack(object):\n",
    "    def __init__(self,size):\n",
    "        # 将数据可以以none的形式扩充\n",
    "        self.data = list(None for _ in range(size))\n",
    "        # 设置的是这个栈的最大存储数\n",
    "        self.max_size = size\n",
    "        # 因为如是空的栈，那么栈的顶部是-1\n",
    "        self.top = -1\n",
    "        \n",
    "    def get_length(self):\n",
    "        return self.top + 1\n",
    "    \n",
    "    def push(self,elem):    \n",
    "        # 进栈\n",
    "        if se1f.top+1 == self.max_size:\n",
    "            \n",
    "            raise IndentationError(\"Stack is Full\")\n",
    "        else:\n",
    "            self.top += 1\n",
    "            self.data[self.top] = elem\n",
    "    \n",
    "    def pop(self):\n",
    "        if self.top == -1:\n",
    "            raise IndexError('Stack is empty')\n",
    "            \n",
    "        else:\n",
    "            self.top -= 1\n",
    "            # 没有使用list的删除。只是把指针向下移\n",
    "            return self.data[self.data+1]\n",
    "    \n",
    "    def get_top(self):\n",
    "        if self.top == -1:\n",
    "            raise IndentationError('Stack is empty')\n",
    "        else:\n",
    "            return self.data[self.top]\n",
    "    \n",
    "    def show_stack(self):\n",
    "        j = self.top\n",
    "        while j >= 0:\n",
    "            print(self.data[j])\n",
    "            j -= 1\n",
    "    def clear_stack(self):\n",
    "        #清除就是将指针设置为-1\n",
    "        return se1f.top == -1\n",
    "        "
   ]
  },
  {
   "cell_type": "code",
   "execution_count": 47,
   "metadata": {},
   "outputs": [
    {
     "name": "stdout",
     "output_type": "stream",
     "text": [
      "3\n",
      "2\n",
      "1\n"
     ]
    }
   ],
   "source": [
    "if __name__ == '__main__':\n",
    "    sqs = SqStack(5)\n",
    "    sqs.push(1)\n",
    "    sqs.push(2)\n",
    "    sqs.push(3)\n",
    "    sqs.show_stack()\n"
   ]
  },
  {
   "cell_type": "markdown",
   "metadata": {},
   "source": [
    "#### 链式的栈结构"
   ]
  },
  {
   "cell_type": "code",
   "execution_count": 52,
   "metadata": {},
   "outputs": [],
   "source": [
    "'''\n",
    "当然我们要先有个链\n",
    "'''\n",
    "\n",
    "class Node(object):\n",
    "    #节点\n",
    "    def __init__(self,data=None):\n",
    "        self.data = data\n",
    "        self.next = None\n",
    "\n",
    "'''\n",
    "开始栈的链式结构\n",
    "'''\n",
    "class LKStack(object):\n",
    "    def __init__(self):\n",
    "        self.top = Node(None)\n",
    "        self.count  = 0\n",
    "    \n",
    "    def get_length(self):\n",
    "        return self.count\n",
    "    def get_top(self):\n",
    "        return self.top.data\n",
    "    def is_empty(self):\n",
    "        return self.count == 0\n",
    "    def push(self,elem):\n",
    "        tmp = Node(elem)\n",
    "        if self.is_empty():\n",
    "            self.top = tmp\n",
    "        else:\n",
    "            #需要注意的是链式的是没有指针的\n",
    "            #所以这是将链表的指针传一个空值\n",
    "            tmp.next = self.top\n",
    "            self.top = tmp\n",
    "        self.count += 1\n",
    "    def pop(self):\n",
    "        if self.is_empty():\n",
    "            raise IndentationError('Stack is empty')\n",
    "        else:\n",
    "            self.count -= 1\n",
    "            elem = self.top.data\n",
    "            self.top = self.top.next\n",
    "    \n",
    "            return elem\n",
    "    def show_stack(self):\n",
    "        if self.is_empty():\n",
    "            raise IndentationError('stack is empty')\n",
    "        else:\n",
    "            j = self.count\n",
    "            tmp = self.top\n",
    "            while j >0 and tmp:\n",
    "                print(tmp.data)\n",
    "                tmp = tmp.next\n",
    "                j -= 1\n",
    "        "
   ]
  },
  {
   "cell_type": "markdown",
   "metadata": {},
   "source": [
    "**实验**"
   ]
  },
  {
   "cell_type": "code",
   "execution_count": 54,
   "metadata": {},
   "outputs": [
    {
     "name": "stdout",
     "output_type": "stream",
     "text": [
      "4\n",
      "3\n",
      "2\n",
      "1\n",
      "3\n",
      "2\n",
      "1\n"
     ]
    }
   ],
   "source": [
    "if __name__ == '__main__':\n",
    "    lks = LKStack()\n",
    "    for i in range(1, 5):\n",
    "        lks.push(i)\n",
    "    lks.show_stack()\n",
    "    lks.pop()\n",
    "    lks.show_stack()"
   ]
  },
  {
   "cell_type": "code",
   "execution_count": null,
   "metadata": {},
   "outputs": [],
   "source": []
  }
 ],
 "metadata": {
  "kernelspec": {
   "display_name": "Python 3",
   "language": "python",
   "name": "python3"
  },
  "language_info": {
   "codemirror_mode": {
    "name": "ipython",
    "version": 3
   },
   "file_extension": ".py",
   "mimetype": "text/x-python",
   "name": "python",
   "nbconvert_exporter": "python",
   "pygments_lexer": "ipython3",
   "version": "3.7.4"
  }
 },
 "nbformat": 4,
 "nbformat_minor": 2
}
