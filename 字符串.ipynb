{
 "cells": [
  {
   "cell_type": "markdown",
   "metadata": {},
   "source": [
    "## 1.无重复字幅最长子串"
   ]
  },
  {
   "cell_type": "markdown",
   "metadata": {},
   "source": [
    "https://leetcode-cn.com/problems/longest-substring-without-repeating-characters/"
   ]
  },
  {
   "cell_type": "code",
   "execution_count": 1,
   "metadata": {},
   "outputs": [],
   "source": [
    "class Solution:\n",
    "    def lengthOfLongestSubstring(self, s: str) -> int:\n",
    "        if s == None or s == \"\":\n",
    "            return 0\n",
    "        left = 0\n",
    "        strlen = len(s)\n",
    "        lookup = set()\n",
    "        curlen, maxlen = 0, 0\n",
    "        for i in range(strlen):\n",
    "            curlen += 1\n",
    "            while s[i] in lookup:\n",
    "                lookup.remove(s[left])\n",
    "                left += 1\n",
    "                curlen -= 1\n",
    "            lookup.add(s[i])\n",
    "            if curlen > maxlen:\n",
    "                maxlen = curlen\n",
    "        return maxlen\n"
   ]
  },
  {
   "cell_type": "markdown",
   "metadata": {},
   "source": [
    "## 串联所有单词的子串"
   ]
  },
  {
   "cell_type": "markdown",
   "metadata": {},
   "source": [
    "\n",
    "https://leetcode-cn.com/problems/substring-with-concatenation-of-all-words/"
   ]
  },
  {
   "cell_type": "code",
   "execution_count": 2,
   "metadata": {},
   "outputs": [],
   "source": [
    "class Solution:\n",
    "    def findSubstring(self, sr, words):\n",
    "        from collections import Counter\n",
    "        if not s or not words:\n",
    "            return []\n",
    "        a_word_len = len(words[0])\n",
    "        words_num = len(words)\n",
    "        hashmap = Counter(words)\n",
    "        str_len = len(s)\n",
    "        res = []\n",
    "        windows = a_word_len * words_num\n",
    "        left = 0\n",
    "        while (left+windows) <= str_len:\n",
    "            tmp = []\n",
    "            i = left\n",
    "            for _ in range(words_num):\n",
    "                tmp.append(s[i:i+a_word_len])\n",
    "                i = i + a_word_len\n",
    "            tmp = Counter(tmp)\n",
    "            if tmp == hashmap:\n",
    "                res.append(left)\n",
    "                left += 1\n",
    "            else:\n",
    "                left += 1\n",
    "        return res\n"
   ]
  },
  {
   "cell_type": "markdown",
   "metadata": {},
   "source": [
    " ## 替换子串得到平衡字符串"
   ]
  },
  {
   "cell_type": "markdown",
   "metadata": {},
   "source": [
    "\n",
    "https://leetcode-cn.com/problems/replace-the-substring-for-balanced-string/"
   ]
  },
  {
   "cell_type": "code",
   "execution_count": 3,
   "metadata": {},
   "outputs": [],
   "source": [
    "class Solution:\n",
    "    def balancedString(self, s: str) -> int:\n",
    "        n = len(s)\n",
    "        average = n //4\n",
    "        import collections\n",
    "        counter = collections.Counter(s)\n",
    "        saveCounter = collections.Counter()\n",
    "        #所有超过1/4的都是需要转换的 集中\n",
    "        for key,val in counter.items():\n",
    "            if val>average:\n",
    "                saveCounter[key] = val\n",
    "        if not saveCounter:\n",
    "            return 0\n",
    "\n",
    "        l = r = 0\n",
    "        count = float(\"inf\")\n",
    "        for r in range(n):\n",
    "        #每一个如果都要需要转化的过程中，则滑动窗口需要包含，直到滑动窗口足够大，saveCounter包含的元素对应的次数都要小于等于average\n",
    "            if s[r] in saveCounter:\n",
    "                saveCounter[s[r]] -= 1\n",
    "            while l<=r:\n",
    "                include = True\n",
    "                for ch in 'QWER':\n",
    "                    if saveCounter[ch] > average:\n",
    "                        include = False\n",
    "                        break\n",
    "                if include:\n",
    "                    #如果滑动窗口已经包含了 那么接下来我们将左边右移，需要将s[l] 次数++\n",
    "                    count = min(count,r-l+1)\n",
    "                    saveCounter[s[l]] += 1\n",
    "                    l += 1\n",
    "                else:\n",
    "                    break\n",
    "        return count"
   ]
  },
  {
   "cell_type": "code",
   "execution_count": null,
   "metadata": {},
   "outputs": [],
   "source": []
  }
 ],
 "metadata": {
  "kernelspec": {
   "display_name": "Python 3",
   "language": "python",
   "name": "python3"
  },
  "language_info": {
   "codemirror_mode": {
    "name": "ipython",
    "version": 3
   },
   "file_extension": ".py",
   "mimetype": "text/x-python",
   "name": "python",
   "nbconvert_exporter": "python",
   "pygments_lexer": "ipython3",
   "version": "3.7.4"
  }
 },
 "nbformat": 4,
 "nbformat_minor": 2
}
