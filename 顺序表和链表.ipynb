{
 "cells": [
  {
   "cell_type": "markdown",
   "metadata": {},
   "source": [
    "### 合并两个有序链表"
   ]
  },
  {
   "cell_type": "markdown",
   "metadata": {},
   "source": [
    "将两个有序链表合并为一个新的有序链表并返回。新链表是通过拼接给定的两个链表的所有节点组成的。 \n",
    "    输入：1->2->4, 1->3->4\n",
    "    输出：1->1->2->3->4->4"
   ]
  },
  {
   "cell_type": "code",
   "execution_count": 1,
   "metadata": {},
   "outputs": [],
   "source": [
    "# Definition for singly-linked list.\n",
    "class ListNode:\n",
    "     def __init__(self, x):\n",
    "         self.val = x\n",
    "         self.next = None\n",
    "\n",
    "class Solution:\n",
    "    def mergeTwoLists(self, l1: ListNode, l2: ListNode) -> ListNode:\n",
    "        prhead = ListNode(-1)\n",
    "        prv = prhead\n",
    "        while l1 and l2 :\n",
    "            if l1.val < l2.val:\n",
    "                prv.next = l1\n",
    "                l1  = l1.next\n",
    "            else :\n",
    "                prv.next  = l2\n",
    "                l2 = l2.next\n",
    "            prv = prv.next\n",
    "        prv.next = l1 if l1 is not None else l2\n",
    "        return prhead.next"
   ]
  },
  {
   "cell_type": "markdown",
   "metadata": {},
   "source": [
    "这个题目上手了链表的基础，使用迭代的方式可以知道几个特性："
   ]
  },
  {
   "cell_type": "markdown",
   "metadata": {},
   "source": [
    "1.链表现有本身的代表的数据是linklist.val\n",
    "2.链表使用next指针被改变"
   ]
  },
  {
   "cell_type": "markdown",
   "metadata": {},
   "source": [
    "###  删除链表的倒数第N个节点"
   ]
  },
  {
   "cell_type": "markdown",
   "metadata": {},
   "source": [
    "给定一个链表，删除链表的倒数第 n 个节点，并且返回链表的头结点。"
   ]
  },
  {
   "cell_type": "markdown",
   "metadata": {},
   "source": [
    "**示例：**\n",
    "\n",
    "给定一个链表: 1->2->3->4->5, 和 n = 2.\n",
    "当删除了倒数第二个节点后，链表变为 1->2->3->5."
   ]
  },
  {
   "cell_type": "markdown",
   "metadata": {},
   "source": [
    "**说明：**\n",
    "\n",
    "给定的 n 保证是有效的"
   ]
  },
  {
   "cell_type": "code",
   "execution_count": 2,
   "metadata": {},
   "outputs": [],
   "source": [
    "\n",
    "class ListNode:\n",
    "     def __init__(self, x):\n",
    "         self.val = x\n",
    "         self.next = None\n",
    "\n",
    "class Solution(object):\n",
    "    def removeNthFromEnd(self, head, n):\n",
    "        \"\"\"\n",
    "        :type head: ListNode\n",
    "        :type n: int\n",
    "        :rtype: ListNode\n",
    "        \"\"\"\n",
    "        if not head or n<=0:\n",
    "            return head\n",
    "        # 增加一个特殊节点，方便边界处理\n",
    "        p = ListNode(-1)\n",
    "        p.next,a,b,k = head,p,p,0\n",
    "        # 第一次遍历，计算链表总长度\n",
    "        while a.next:\n",
    "            a,k = a.next,k+1\n",
    "        # 如果链表总长度小于n，那就直接返回\n",
    "        if k<n:\n",
    "            return head\n",
    "        # 计算第二次遍历多少个节点\n",
    "            num = k-n\n",
    "        # 第二次遍历，找到要删除节点的前一个节点\n",
    "        while num>0:\n",
    "            b,num = b.next,num-1\n",
    "        # 删除节点，并返回\n",
    "        b.next = b.next.next\n",
    "        return p.next"
   ]
  },
  {
   "cell_type": "markdown",
   "metadata": {},
   "source": [
    "**一种比较直观的方式：**\n"
   ]
  },
  {
   "cell_type": "markdown",
   "metadata": {},
   "source": [
    "两次遍历的方式很好理解，先遍历一次链表，求出链表的总长度。\n",
    "\n",
    "第二次遍历的时候，根据总长度k的值-n，就算出需要再遍历多少个节点，找到要删除的节点的前一个节点x。\n",
    "\n",
    "然后将x节点的next指针指向下下一个节点就可以删除节点了。"
   ]
  },
  {
   "cell_type": "markdown",
   "metadata": {},
   "source": [
    "### 旋转链表"
   ]
  },
  {
   "cell_type": "markdown",
   "metadata": {},
   "source": [
    "给定一个链表，旋转链表，将链表每个节点向右移动 k 个位置，其中 k 是非负数。"
   ]
  },
  {
   "cell_type": "markdown",
   "metadata": {},
   "source": [
    "**示例 1:**\n",
    "\n",
    "输入: 1->2->3->4->5->NULL, k = 2\n",
    "输出: 4->5->1->2->3->NULL\n",
    "解释:\n",
    "向右旋转 1 步: 5->1->2->3->4->NULL\n",
    "向右旋转 2 步: 4->5->1->2->3->NULL\n"
   ]
  },
  {
   "cell_type": "code",
   "execution_count": 3,
   "metadata": {},
   "outputs": [],
   "source": [
    "class ListNode:\n",
    "     def __init__(self, x):\n",
    "         self.val = x\n",
    "         self.next = None\n",
    "\n",
    "class Solution:\n",
    "    def rotateRight(self, head: ListNode, k: int) -> ListNode:\n",
    "        \n",
    "    \n",
    "        # base cases\n",
    "        if not head:\n",
    "            return None\n",
    "        if not head.next:\n",
    "            return head\n",
    "        \n",
    "        # close the linked list into the ring\n",
    "        old_tail = head\n",
    "        n = 1\n",
    "        while old_tail.next:\n",
    "            old_tail = old_tail.next\n",
    "            n += 1\n",
    "        old_tail.next = head\n",
    "        \n",
    "        # find new tail : (n - k % n - 1)th node\n",
    "        # and new head : (n - k % n)th node\n",
    "        new_tail = head\n",
    "        for i in range(n - k % n - 1):\n",
    "            new_tail = new_tail.next\n",
    "        new_head = new_tail.next\n",
    "        \n",
    "        # break the ring\n",
    "        new_tail.next = None\n",
    "        \n",
    "        return new_head"
   ]
  },
  {
   "cell_type": "markdown",
   "metadata": {},
   "source": [
    "**思考**这题花了很多时间，我在LeetCode中发现的一个很有意思的题解：穿针引线法，我还没有代码复现出来。"
   ]
  },
  {
   "cell_type": "markdown",
   "metadata": {},
   "source": [
    "**关于这中直观解法：**\n",
    "找到旧的尾部并将其与链表头相连 old_tail.next = head，整个链表闭合成环，同时计算出链表的长度 n。\n",
    "找到新的尾部，第 (n - k % n - 1) 个节点 ，新的链表头是第 (n - k % n) 个节点。\n",
    "断开环 new_tail.next = None，并返回新的链表头 new_head。\n",
    "\n"
   ]
  },
  {
   "cell_type": "code",
   "execution_count": null,
   "metadata": {},
   "outputs": [],
   "source": []
  }
 ],
 "metadata": {
  "kernelspec": {
   "display_name": "Python 3",
   "language": "python",
   "name": "python3"
  },
  "language_info": {
   "codemirror_mode": {
    "name": "ipython",
    "version": 3
   },
   "file_extension": ".py",
   "mimetype": "text/x-python",
   "name": "python",
   "nbconvert_exporter": "python",
   "pygments_lexer": "ipython3",
   "version": "3.7.4"
  }
 },
 "nbformat": 4,
 "nbformat_minor": 2
}
